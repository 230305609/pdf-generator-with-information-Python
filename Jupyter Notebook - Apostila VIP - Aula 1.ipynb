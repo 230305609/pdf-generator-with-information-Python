{
 "cells": [
  {
   "attachments": {},
   "cell_type": "markdown",
   "id": "0add54e3",
   "metadata": {},
   "source": [
    "<h3 style=\"color: #2F666F\">Desenvolvendo as entradas de dados</h3>\n",
    "\n",
    "- Descrição do projeto\n",
    "- Total de horas estimadas\n",
    "- Valor da hora de trabalho\n",
    "- Prazo de entrega estimado"
   ]
  },
  {
   "cell_type": "code",
   "execution_count": 5,
   "id": "dbf2d19f",
   "metadata": {},
   "outputs": [],
   "source": [
    "projeto = input(\"Digite a descrição do projeto: \")\n",
    "horas_estimadas = input(\"Digite o total de horas estimadas: \")\n",
    "valor_hora = input(\"Digite o valor da hora trabalhada: \")\n",
    "prazo_estimado = input(\"Digite o prazo estimado: \")"
   ]
  },
  {
   "attachments": {},
   "cell_type": "markdown",
   "id": "f8f7318b",
   "metadata": {},
   "source": [
    "<h3 style=\"color: #2F666F\">Criando o cálculo do valor total estimado</h3>\n",
    "\n",
    "- **Cálculo:** `valor total estimado = total de horas estimadadas x valor da hora de trabalho`"
   ]
  },
  {
   "cell_type": "code",
   "execution_count": 10,
   "id": "5742f5ef",
   "metadata": {},
   "outputs": [],
   "source": [
    "valor_total_estimado = int(horas_estimadas) * int(valor_hora) "
   ]
  },
  {
   "cell_type": "code",
   "execution_count": 9,
   "id": "7934201a",
   "metadata": {},
   "outputs": [
    {
     "name": "stdout",
     "output_type": "stream",
     "text": [
      "7200\n"
     ]
    }
   ],
   "source": [
    "print(valor_total_estimado)"
   ]
  },
  {
   "attachments": {},
   "cell_type": "markdown",
   "id": "058e1c18",
   "metadata": {},
   "source": [
    "<h3 style=\"color: #2F666F\">Gerando o PDF com o orçamento</h3>"
   ]
  },
  {
   "attachments": {},
   "cell_type": "markdown",
   "id": "31aafa15",
   "metadata": {},
   "source": [
    "<h4>Instalando a biblioteca</h4>"
   ]
  },
  {
   "cell_type": "code",
   "execution_count": 11,
   "id": "f573ade9",
   "metadata": {},
   "outputs": [
    {
     "name": "stdout",
     "output_type": "stream",
     "text": [
      "Collecting fpdf\n",
      "  Downloading fpdf-1.7.2.tar.gz (39 kB)\n",
      "  Preparing metadata (setup.py): started\n",
      "  Preparing metadata (setup.py): finished with status 'done'\n",
      "Building wheels for collected packages: fpdf\n",
      "  Building wheel for fpdf (setup.py): started\n",
      "  Building wheel for fpdf (setup.py): finished with status 'done'\n",
      "  Created wheel for fpdf: filename=fpdf-1.7.2-py2.py3-none-any.whl size=40712 sha256=0a6fe3281234e5925ed39b2d61e1256507b8973a7c06df6a1f32acb9b8767c30\n",
      "  Stored in directory: c:\\users\\victor\\appdata\\local\\pip\\cache\\wheels\\65\\4f\\66\\bbda9866da446a72e206d6484cd97381cbc7859a7068541c36\n",
      "Successfully built fpdf\n",
      "Installing collected packages: fpdf\n",
      "Successfully installed fpdf-1.7.2\n"
     ]
    }
   ],
   "source": [
    "!pip install fpdf"
   ]
  },
  {
   "cell_type": "code",
   "execution_count": 12,
   "id": "1e3c8129",
   "metadata": {},
   "outputs": [],
   "source": [
    "# importando a biblioteca\n",
    "# de fpdf importar so o FPDF\n",
    "from fpdf import FPDF"
   ]
  },
  {
   "attachments": {},
   "cell_type": "markdown",
   "id": "865a532c",
   "metadata": {},
   "source": [
    "<h4>Criando um arquivo PDF</h4>"
   ]
  },
  {
   "cell_type": "code",
   "execution_count": 13,
   "id": "ca83e985",
   "metadata": {},
   "outputs": [],
   "source": [
    "# pdf(variavel) = FPDF()\n",
    "pdf = FPDF()\n",
    "# adicionar pagina a pdf\n",
    "pdf.add_page()\n",
    "# adicionar fonte de letra ao pdf\n",
    "pdf.set_font(\"Arial\")"
   ]
  },
  {
   "attachments": {},
   "cell_type": "markdown",
   "id": "37ae1b1f",
   "metadata": {},
   "source": [
    "<h4>Inserindo os dados no PDF</h4>"
   ]
  },
  {
   "cell_type": "code",
   "execution_count": 14,
   "id": "3bfe7a1f",
   "metadata": {},
   "outputs": [],
   "source": [
    "# utilizando um template\n",
    "pdf.image(\"template.png\", x=0, y=0 )\n",
    "\n",
    "# inserindo os dados do projeto\n",
    "#         X    Y  \n",
    "pdf.text(115, 145, projeto)\n",
    "pdf.text(115, 160, horas_estimadas)\n",
    "pdf.text(115, 175, valor_hora)\n",
    "pdf.text(115, 190, prazo_estimado)\n",
    "################## mudei para str pois isto tem que ser em palavras\n",
    "pdf.text(115, 205, str(valor_total_estimado))"
   ]
  },
  {
   "attachments": {},
   "cell_type": "markdown",
   "id": "1ad01475",
   "metadata": {},
   "source": [
    "<h4>Salvando o arquivo</h4>"
   ]
  },
  {
   "cell_type": "code",
   "execution_count": 15,
   "id": "89a4beb4",
   "metadata": {},
   "outputs": [
    {
     "name": "stdout",
     "output_type": "stream",
     "text": [
      "Orçamento gerado com sucesso!\n"
     ]
    }
   ],
   "source": [
    "# salvei o pdf\n",
    "pdf.output(\"orçamento.pdf\")\n",
    "# se salvo imprimir orçamento gerado com sucesso!\n",
    "print(\"Orçamento gerado com sucesso!\")"
   ]
  }
 ],
 "metadata": {
  "kernelspec": {
   "display_name": "Python 3 (ipykernel)",
   "language": "python",
   "name": "python3"
  },
  "language_info": {
   "codemirror_mode": {
    "name": "ipython",
    "version": 3
   },
   "file_extension": ".py",
   "mimetype": "text/x-python",
   "name": "python",
   "nbconvert_exporter": "python",
   "pygments_lexer": "ipython3",
   "version": "3.11.3"
  },
  "vscode": {
   "interpreter": {
    "hash": "6467cde764c137f84d8db938254cde60243c46e0fe8734c86fbe71b9c1c73122"
   }
  }
 },
 "nbformat": 4,
 "nbformat_minor": 5
}
